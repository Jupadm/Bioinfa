{
  "nbformat": 4,
  "nbformat_minor": 0,
  "metadata": {
    "colab": {
      "name": "Bioinfa.ipynb",
      "provenance": [],
      "collapsed_sections": []
    },
    "kernelspec": {
      "name": "python3",
      "display_name": "Python 3"
    },
    "language_info": {
      "name": "python"
    }
  },
  "cells": [
    {
      "cell_type": "markdown",
      "metadata": {
        "id": "mTMYHV6uTNcy"
      },
      "source": [
        "**Глобальное и локальное выравнивания**\n",
        "\n",
        "\n",
        "*Глобальное* - предполагаются эквивалентные последовательности, выравниваемые \"от конца до конца\".\n",
        "\n",
        "*Локальное* - нет штрафов за gap'ы на концах. Обычно используется при выравнивании короткого прочтения на большой геном.\n",
        "\n",
        "Алгоритм Нидльмана-Вунша  - про глобальное выравнивание."
      ]
    },
    {
      "cell_type": "markdown",
      "metadata": {
        "id": "iJZTeQ7FMk4_"
      },
      "source": [
        "**Формат .fa(fasta)**:  \n",
        "\n",
        "*   используется для нуклеотидных и протеиновых последовательностей\n",
        "*   содержит 2 строки: \n",
        "\n",
        "  1.   Hазвание(характеристика),начинается с '>'\n",
        "  2.   Сама последовательность\n",
        "\n",
        "\n",
        "Функция, позволяющая получить последовательсности из данные формата fasta: "
      ]
    },
    {
      "cell_type": "code",
      "metadata": {
        "id": "o3_0Ff46Igtc"
      },
      "source": [
        "def raspakovkaFA(link):\n",
        "  with open(link) as file:\n",
        "    lines = file.readlines() #массив строк\n",
        "  res = ''\n",
        "  lines = lines[1:] #удаляем строку характеризующую последовательность\n",
        "  for j in range(len(lines)):\n",
        "    res += lines[j][:len(lines[j])-1] #записываем все строки в одну удаляя символы '\\n'\n",
        "  return res\n"
      ],
      "execution_count": 14,
      "outputs": []
    },
    {
      "cell_type": "markdown",
      "metadata": {
        "id": "mcXAI6_POJS7"
      },
      "source": [
        "\n",
        "Алгоритм Нидльмана-Вунша:\n",
        "1.   Подсчет содердимого матрицы на основании оптимизации схожести строк (=> gap, mismatch < 0, match > 0)\n",
        "2.   Восстановление схожего вида\n",
        "\n",
        "В данном алгоритме, значение mismatch задается пользователем (по умолчанию = -2), по нему однозначно определяются значения match и gap"
      ]
    },
    {
      "cell_type": "code",
      "metadata": {
        "colab": {
          "base_uri": "https://localhost:8080/"
        },
        "id": "Z3blkrEmAfsd",
        "outputId": "02dd20a1-6533-4e87-f68e-476f211b0a7f"
      },
      "source": [
        "l1 = raspakovkaFA(\"line1.txt\")\n",
        "l2 = raspakovkaFA(\"line2.txt\")\n",
        "\n",
        "\n",
        "def vunsh(line1,line2):\n",
        "  mismatch = input() #запрашиваем значение штрафа за несоотвествие нуклеотидов\n",
        "  if len(mismatch) == 0: #если ничего не передали, то определим по умолчанию\n",
        "    mismatch = -2\n",
        "  else:\n",
        "    mismatch = -abs(int(mismatch)) #передаваемое число может быть как < так и >0(пользователь запутался), мы работаем только с <0 по идее алгоритма\n",
        "  gap = 0.5*mismatch\n",
        "  len1 = len(line1) #вертикаль line2, горизонталь line1\n",
        "  len2 = len(line2)\n",
        "\n",
        "  def equal(x,y):\n",
        "    if x == y:\n",
        "      return -mismatch #match\n",
        "    else:\n",
        "      return mismatch\n",
        "\n",
        "  def table(line1,line2):\n",
        "    F = [[0 for _ in range(len1 + 1)] for _ in range(len2 + 1)]   #массив для заполнения, (+1) засчет вспомогательных ячеек\n",
        "                                                                  #F[len2][len1] - редакционное расстояние строк\n",
        "    for i in range(len2+1):   #заполняем крайние случаи, с учетом F[0][0] = 0\n",
        "      F[i][0] = i*gap\n",
        "    F[0] = [ j*gap for j in range(len1 + 1)] \n",
        "    for i in range(1, len2 + 1):\n",
        "      for j in range(1, len1 + 1):\n",
        "        F[i][j] = max(F[i-1][j-1] + equal(line1[j-1], line2[i-1]),\n",
        "                      F[i][j-1] + gap, \n",
        "                      F[i-1][j] + gap)\n",
        "    return F\n",
        "      \n",
        "  F = table(l1, l2)\n",
        "  res = [[] for _ in range(2)] #будем восстанавливать вид выравнивания, проходя по таблице с конца\n",
        "  x,y = len2,len1 #индексы текущего элемента \n",
        "  curr = F[x][y] #current\n",
        "  diag = F[x-1][y-1]\n",
        "  verh = F[x-1][y]\n",
        "  levo = F[x][y-1]\n",
        "  while x != 0 or y != 0:\n",
        "    if curr == diag + equal(line1[y-1], line2[x-1]):\n",
        "      res[0].append(line1[y-1])\n",
        "      res[1].append(line2[x-1])\n",
        "      x -= 1\n",
        "      y -= 1\n",
        "    elif curr == levo + gap: #пришли в текущую ячейку слева\n",
        "      res[0].append(line1[y-1])\n",
        "      res[1].append('_')\n",
        "      y -= 1\n",
        "    elif curr == verh + gap: #сверху\n",
        "      res[0].append('_')\n",
        "      res[1].append(line2[x-1])      \n",
        "      x-=1\n",
        "    curr = F[x][y] #меняем положение в ячейку из которой пришли => меняем относительные правые и левые элементы\n",
        "    diag = F[x-1][y-1]\n",
        "    verh = F[x-1][y]\n",
        "    levo = F[x][y-1]\n",
        "  res[0].reverse()\n",
        "  res[1].reverse()\n",
        "  print(*res[0])\n",
        "  print(*res[1])\n",
        "\n",
        "vunsh(l1,l2)"
      ],
      "execution_count": 21,
      "outputs": [
        {
          "output_type": "stream",
          "name": "stdout",
          "text": [
            "\n",
            "A T G _ _ C _ _ _ C G T C T G A T G T C G G A A T A C G G\n",
            "G T G A A C A A A C G G C T G _ T _ T T T G C A _ G C C G\n"
          ]
        }
      ]
    }
  ]
}